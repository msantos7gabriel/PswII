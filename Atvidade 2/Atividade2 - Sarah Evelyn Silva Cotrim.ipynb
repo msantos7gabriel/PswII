{
 "cells": [
  {
   "cell_type": "markdown",
   "metadata": {},
   "source": [
    "# Classes"
   ]
  },
  {
   "cell_type": "code",
   "execution_count": 10,
   "metadata": {},
   "outputs": [
    {
     "data": {
      "text/plain": [
       "57"
      ]
     },
     "execution_count": 10,
     "metadata": {},
     "output_type": "execute_result"
    }
   ],
   "source": [
    "class Exemplo:\n",
    "    def __init__(self, a=2, b=3):\n",
    "        self.a = a\n",
    "        self.b = b\n",
    "    def f(self, x):\n",
    "        return self.a * x + self.b\n",
    "\n",
    "obj1 = Exemplo()\n",
    "obj1.a\n",
    "obj1.b\n",
    "\n",
    "obj2 = Exemplo(8, 1)\n",
    "obj2.b\n",
    "obj1.f(7)\n",
    "obj2.f(7)\n"
   ]
  },
  {
   "cell_type": "code",
   "execution_count": 11,
   "metadata": {},
   "outputs": [
    {
     "name": "stdout",
     "output_type": "stream",
     "text": [
      "Criada uma nova instância Retângulo\n"
     ]
    },
    {
     "data": {
      "text/plain": [
       "20"
      ]
     },
     "execution_count": 11,
     "metadata": {},
     "output_type": "execute_result"
    }
   ],
   "source": [
    "class Retângulo:\n",
    "    lado_a = None\n",
    "    lado_b = None\n",
    "    def __init__(self, lado_a, lado_b):\n",
    "        self.lado_a = lado_a\n",
    "        self.lado_b = lado_b\n",
    "        print('Criada uma nova instância Retângulo')\n",
    "    def calcula_area(self):\n",
    "        return self.lado_a * self.lado_b\n",
    "    def calcula_perimetro(self):\n",
    "        return 2 * self.lado_a + 2 * self.lado_b\n",
    "\n",
    "obj = Retângulo(4,6)\n",
    "obj.lado_a\n",
    "obj.lado_b\n",
    "obj.calcula_area()\n",
    "obj.calcula_perimetro()"
   ]
  },
  {
   "cell_type": "code",
   "execution_count": 12,
   "metadata": {},
   "outputs": [
    {
     "name": "stdout",
     "output_type": "stream",
     "text": [
      "1234 658.0\n"
     ]
    }
   ],
   "source": [
    "class ContaCorrente:\n",
    "    def __init__(self, numero):\n",
    "        self.numero = numero\n",
    "        self.saldo = 0.0\n",
    "\n",
    "    def debitar(self, valor):\n",
    "        self.saldo = self.saldo - valor\n",
    "    def creditar(self, valor):\n",
    "        self.saldo = self.saldo + valor\n",
    "\n",
    "c = ContaCorrente('1234')\n",
    "c.saldo\n",
    "c.creditar(1000)\n",
    "c.saldo\n",
    "c.debitar(342)\n",
    "print(c.numero, c.saldo)"
   ]
  },
  {
   "cell_type": "code",
   "execution_count": 13,
   "metadata": {},
   "outputs": [
    {
     "name": "stdout",
     "output_type": "stream",
     "text": [
      "1992\n"
     ]
    }
   ],
   "source": [
    "class Pessoa:\n",
    "    nome = None\n",
    "    idade = None\n",
    "\n",
    "    def __init__(self, nome, idade):\n",
    "        self.nome = nome\n",
    "        self.idade = idade\n",
    "\n",
    "    def getAnoNascimento(self, anoAtual):\n",
    "        return anoAtual - self.idade\n",
    "    \n",
    "pessoa = Pessoa(\"Pedro\", 21)\n",
    "print(pessoa.getAnoNascimento(2013))    "
   ]
  },
  {
   "cell_type": "code",
   "execution_count": 14,
   "metadata": {},
   "outputs": [],
   "source": [
    "class Automóvel:\n",
    "    def __init__(self, placa='XX-123'):\n",
    "        self.placa = placa\n",
    "\n",
    "    def get_placa(self):\n",
    "        return self.placa\n",
    "\n",
    "    def dirigir(self, velocidade):\n",
    "        print('Estou dirigindo a %d''km/h' % velocidade)\n"
   ]
  },
  {
   "cell_type": "code",
   "execution_count": 15,
   "metadata": {},
   "outputs": [],
   "source": [
    "class Matriz:\n",
    "    dic = None\n",
    "    tamanho = None\n",
    "\n",
    "    def __init__(self):\n",
    "        self.dic = {}\n",
    "        self.tamanho = 0\n",
    "\n",
    "    def __init__(self, matriz, tamanho):\n",
    "        self.dic = matriz\n",
    "        self.tamanho = tamanho\n",
    "\n",
    "    def imprimeMatriz(self):\n",
    "        for i in range(self.tamanho):\n",
    "            stLinha = \"\"\n",
    "            for j in range(self.tamanho):\n",
    "                stLinha += dict[(i, j)] + \" \"\n",
    "            print(stLinha)"
   ]
  }
 ],
 "metadata": {
  "colab": {
   "provenance": []
  },
  "kernelspec": {
   "display_name": "Python 3",
   "name": "python3"
  },
  "language_info": {
   "codemirror_mode": {
    "name": "ipython",
    "version": 3
   },
   "file_extension": ".py",
   "mimetype": "text/x-python",
   "name": "python",
   "nbconvert_exporter": "python",
   "pygments_lexer": "ipython3",
   "version": "3.12.7"
  }
 },
 "nbformat": 4,
 "nbformat_minor": 0
}
