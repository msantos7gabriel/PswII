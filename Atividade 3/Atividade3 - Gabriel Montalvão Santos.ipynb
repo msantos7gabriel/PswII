{
 "cells": [
  {
   "cell_type": "markdown",
   "metadata": {},
   "source": [
    "# Exercícios\n",
    "### Exercício 1 - Classe Triangulo:  "
   ]
  },
  {
   "cell_type": "code",
   "execution_count": 4,
   "metadata": {},
   "outputs": [
    {
     "name": "stdout",
     "output_type": "stream",
     "text": [
      "O Perímetro do Triangulo é: 15 \n",
      "Todos tem o mesmo tamanho de: 5\n"
     ]
    }
   ],
   "source": [
    "class Triangulo:\n",
    "\n",
    "    def __init__(self, ladoA, ladoB, ladoC):\n",
    "        self.ladoA = ladoA\n",
    "        self.ladoB = ladoB\n",
    "        self.ladoC = ladoC\n",
    "\n",
    "    def calc_perímetro(self):\n",
    "        perímetro = self.ladoA+self.ladoB+self.ladoC\n",
    "        print(f'O Perímetro do Triangulo é: {perímetro} ')\n",
    "\n",
    "    def getMaiorLado(self):\n",
    "        if self.ladoA == self.ladoB and self.ladoB == self.ladoC:\n",
    "            print(f'Todos tem o mesmo tamanho de: {self.ladoA}')\n",
    "        elif self.ladoA >= self.ladoB and self.ladoA >= self.ladoC:\n",
    "            print(f\"O Maior lado foi o 'Lado A' com {self.ladoA} de tamanho\")\n",
    "        elif self.ladoB >= self.ladoA and self.ladoB >= self.ladoC:\n",
    "            print(f\"O Maior lado foi o 'Lado B' com {self.ladoB} de tamanho\")\n",
    "        else:\n",
    "            print(f\"O Maior lado foi o 'Lado C' com {self.ladoC} de tamanho\")\n",
    "\n",
    "\n",
    "letras = ['A', 'B', 'C']\n",
    "lado = []\n",
    "for l in letras:\n",
    "    lado.append(int(input(f'Informe o lado {l}:')))\n",
    "\n",
    "t = Triangulo(lado[0], lado[1], lado[2])\n",
    "t.calc_perímetro()\n",
    "t.getMaiorLado()\n"
   ]
  },
  {
   "cell_type": "markdown",
   "metadata": {},
   "source": [
    "### Exercício 2 - Classe Funcionário:"
   ]
  },
  {
   "cell_type": "code",
   "execution_count": 1,
   "metadata": {},
   "outputs": [
    {
     "name": "stdout",
     "output_type": "stream",
     "text": [
      "R$27500.00\n"
     ]
    }
   ],
   "source": [
    "class Funcionário:\n",
    "    def __init__(self, nome, salario):\n",
    "        self.nome = nome\n",
    "        self.salario = salario\n",
    "\n",
    "    def Aumentar_salario(self, Porcentual_Aumento):\n",
    "        self.salario *= (1+Porcentual_Aumento/100)\n",
    "\n",
    "\n",
    "harry = Funcionário('Harry', 25000)\n",
    "harry.Aumentar_salario(10)\n",
    "print(f'R${harry.salario:.2f}')\n"
   ]
  },
  {
   "cell_type": "markdown",
   "metadata": {},
   "source": [
    "### Exercício 3 - Classe Livro:"
   ]
  },
  {
   "cell_type": "code",
   "execution_count": 6,
   "metadata": {},
   "outputs": [
    {
     "name": "stdout",
     "output_type": "stream",
     "text": [
      "300\n",
      "299.99\n"
     ]
    }
   ],
   "source": [
    "class Livro:\n",
    "    def __init__(self, qtdPaginas, autor, preço):\n",
    "        self.qtdPaginas = qtdPaginas\n",
    "        self.autor = autor\n",
    "        self.preço = preço\n",
    "\n",
    "    @property\n",
    "    def getPreço(self):\n",
    "        return self.preço\n",
    "\n",
    "    @getPreço.setter\n",
    "    def setPreço(self, valor):\n",
    "        self.preço = valor\n",
    "\n",
    "\n",
    "l = Livro('Tira minhas faltas professor <3', \"Gabriel\", 300)\n",
    "print(l.getPreço)\n",
    "l.setPreço = 299.99\n",
    "print(l.getPreço)\n"
   ]
  },
  {
   "cell_type": "markdown",
   "metadata": {},
   "source": [
    "### Exercício 4 - Classe Aluno:"
   ]
  },
  {
   "cell_type": "code",
   "execution_count": 7,
   "metadata": {},
   "outputs": [
    {
     "name": "stdout",
     "output_type": "stream",
     "text": [
      "24\n",
      "4\n",
      "10\n"
     ]
    }
   ],
   "source": [
    "class Aluno:\n",
    "    def __init__(self, nome, curso, tempoSemDormir):\n",
    "        self.nome = nome\n",
    "        self.curso = curso\n",
    "        self.tempoSemDormir = tempoSemDormir\n",
    "\n",
    "    def estudar(self, horas):\n",
    "        self.tempoSemDormir += horas\n",
    "    \n",
    "    def Dormir(self, horas):\n",
    "        self.tempoSemDormir -= horas\n",
    "\n",
    "a= Aluno('Gabriel', 'Informática', 24)\n",
    "print(a.tempoSemDormir)\n",
    "a.Dormir(20)\n",
    "print(a.tempoSemDormir)\n",
    "a.estudar(6)\n",
    "print(a.tempoSemDormir)\n"
   ]
  },
  {
   "cell_type": "markdown",
   "metadata": {},
   "source": [
    "### Exercício 5 - Classe Carro:"
   ]
  },
  {
   "cell_type": "code",
   "execution_count": null,
   "metadata": {},
   "outputs": [],
   "source": [
    "class Carro:\n",
    "    def __init__(self, KmPorL):\n",
    "        self.KmPorL = KmPorL\n",
    "        self.gasolina = 0\n",
    "\n",
    "    def adicionarGasolina(self, valor):\n",
    "        self.gasolina += valor\n",
    "\n",
    "    def andar(self, valor):\n",
    "        self.gasolina = round(self.gasolina - (valor / self.KmPorL), 2)\n",
    "\n",
    "    def obterGasolina(self):\n",
    "        return self.gasolina\n",
    "\n",
    "meuFusca = Carro(15)\n",
    "meuFusca.adicionarGasolina(20)\n",
    "meuFusca.andar(100)\n",
    "print(meuFusca.obterGasolina())\n"
   ]
  },
  {
   "cell_type": "markdown",
   "metadata": {},
   "source": [
    "### Exercício 6 - Classe Aluno 2.0:"
   ]
  }
 ],
 "metadata": {
  "colab": {
   "provenance": []
  },
  "kernelspec": {
   "display_name": "Python 3",
   "name": "python3"
  },
  "language_info": {
   "codemirror_mode": {
    "name": "ipython",
    "version": 3
   },
   "file_extension": ".py",
   "mimetype": "text/x-python",
   "name": "python",
   "nbconvert_exporter": "python",
   "pygments_lexer": "ipython3",
   "version": "3.12.7"
  }
 },
 "nbformat": 4,
 "nbformat_minor": 0
}
