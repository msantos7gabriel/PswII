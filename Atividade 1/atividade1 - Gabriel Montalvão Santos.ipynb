{
 "cells": [
  {
   "cell_type": "markdown",
   "metadata": {},
   "source": [
    "# A Sintaxe"
   ]
  },
  {
   "cell_type": "code",
   "execution_count": null,
   "metadata": {
    "colab": {
     "base_uri": "https://localhost:8080/"
    },
    "id": "T0SE1DGXeGiS",
    "outputId": "1457a4e8-f582-4dd2-a65a-77391c5ff2d7"
   },
   "outputs": [],
   "source": [
    "a = \"a\"\n",
    "b = \"b\"\n",
    "c, d = \"cd\"\n",
    "e, f = \"e\", \"f\"\n",
    "print (a, b, c, d, e, f)\n",
    "e, f = f, e\n",
    "print (a, b, c, d, e, f)\n",
    "a += b\n",
    "print (a)\n",
    "a *= 5\n",
    "print (a)"
   ]
  },
  {
   "cell_type": "code",
   "execution_count": null,
   "metadata": {
    "colab": {
     "base_uri": "https://localhost:8080/"
    },
    "id": "n8EStVkvfDWX",
    "outputId": "c52175b2-1da9-4753-aa97-8ceb18bc2183"
   },
   "outputs": [],
   "source": [
    "a = int(input(\"A:\"))\n",
    "b = int(input(\"B:\"))\n",
    "\n",
    "if a > b:\n",
    "    print (\"A é maior que B\")\n",
    "elif b > a:\n",
    "    print (\"B é maior que A\")\n",
    "else:\n",
    "    print (\"A e B são iguais\")\n",
    "\n",
    "print (\"A é maior\" if a > b else \"A não é maior\")"
   ]
  },
  {
   "cell_type": "code",
   "execution_count": null,
   "metadata": {
    "colab": {
     "base_uri": "https://localhost:8080/"
    },
    "id": "SSSHsD_LghEW",
    "outputId": "9ccf1fa3-29a5-4c07-fccf-91e1dc6f84cd"
   },
   "outputs": [],
   "source": [
    "import sys, time\n",
    "d = input(\"Despertar (HH:MM): \")\n",
    "print(d)\n",
    "print(time.strftime(\"%H:%M\"))\n",
    "while time.strftime(\"%H:%M\") != d:\n",
    "  try:\n",
    "    print(\"\\b\\b\\b\\b\\btick\"), sys.stdout.flush()\n",
    "    time.sleep(0.5)\n",
    "\n",
    "    print(\"\\b\\b\\b\\b\\btack\"), sys.stdout.flush()\n",
    "    time.sleep(0.5)\n",
    "\n",
    "  except KeyboardInterrupt:\n",
    "    break\n",
    "else:\n",
    "  print(\"\\n\\nTRIM!\\a\\a\\a\")\n",
    "  sys.exit(0)\n",
    "\n",
    "print(\"\\n\\nInterrompido!\")"
   ]
  },
  {
   "cell_type": "code",
   "execution_count": null,
   "metadata": {
    "colab": {
     "base_uri": "https://localhost:8080/"
    },
    "id": "rfmKN_SNiFs8",
    "outputId": "c97c4bf5-388e-4770-bd29-87605967e8f9"
   },
   "outputs": [],
   "source": [
    "import sys\n",
    "\n",
    "for linha in sys.stdin:\n",
    "    if not linha.strip(): continue\n",
    "    if \"FIM\" in linha: break\n",
    "    print(\"#\"), linha.rstrip()\n",
    "else:\n",
    "    print(\"# FIM DO ARQUIVO\")\n",
    "\n",
    "a = range(10)\n",
    "print(\"a\")\n",
    "\n",
    "for i in a:\n",
    "    print(i)"
   ]
  },
  {
   "cell_type": "markdown",
   "metadata": {},
   "source": [
    "# Listas \n",
    "### Listas e seus métodos"
   ]
  },
  {
   "cell_type": "code",
   "execution_count": null,
   "metadata": {
    "colab": {
     "base_uri": "https://localhost:8080/",
     "height": 211
    },
    "id": "OFqjKuLZybsE",
    "outputId": "0514a01f-98da-4ddb-8204-9293bfc96c9a"
   },
   "outputs": [],
   "source": [
    "['a', 'b']\n",
    "['a', 'b'] + ['c', 'd']\n",
    "\n",
    "a = ['a', 'b', 'c', 'd']\n",
    "a\n",
    "\n",
    "a[0] = 'X'\n",
    "a\n",
    "\n",
    "a += \"efg\"\n",
    "a\n",
    "\n",
    "a + \"ghi\"\n",
    "\n",
    "['a', 'b', 'c', 'd'][0]\n",
    "\n",
    "['a', 'b', 'c', 'd'][0:2]"
   ]
  },
  {
   "cell_type": "code",
   "execution_count": null,
   "metadata": {
    "colab": {
     "base_uri": "https://localhost:8080/"
    },
    "id": "9BNtyDXU17QL",
    "outputId": "e03c5e90-8a17-40c7-e01f-a69b6655bf4d"
   },
   "outputs": [],
   "source": [
    "a = [1, 2, 3]\n",
    "a.append(4)\n",
    "a\n",
    "\n",
    "a.extend([5, 6])\n",
    "a\n",
    "\n",
    "a.insert(2, 2.5)\n",
    "a\n",
    "\n",
    "a.pop()\n",
    "a\n",
    "\n",
    "a.reverse()\n",
    "a\n",
    "\n",
    "a.sort()\n",
    "a\n",
    "\n",
    "['err', 'ok', 'err'].count('err')"
   ]
  },
  {
   "cell_type": "markdown",
   "metadata": {},
   "source": [
    "# Dicionários\n",
    "### Sua declaração e seus métodos"
   ]
  },
  {
   "cell_type": "code",
   "execution_count": null,
   "metadata": {
    "colab": {
     "base_uri": "https://localhost:8080/"
    },
    "id": "knKsmW355AMf",
    "outputId": "b334ab75-196f-4483-b4f2-e56650c3c406"
   },
   "outputs": [],
   "source": [
    "d = {\"c1\": \"v1\"}\n",
    "\n",
    "d[\"c2\"] = \"v2\"\n",
    "print(d)\n",
    "\n",
    "d[1] = \"chave numerica\"\n",
    "print(d)\n",
    "\n",
    "tuplachave = (1, 2, 3)\n",
    "d[tuplachave] = \"objeto chave\"\n",
    "print(d)\n",
    "\n",
    "d.update({'c3': 'v3', 'c4': 'v4'})\n",
    "print(d)\n",
    "\n",
    "d.pop('c4')\n",
    "print(d)\n",
    "\n",
    "print(d.items())\n",
    "print(d.keys())\n",
    "print(d.values())"
   ]
  },
  {
   "cell_type": "markdown",
   "metadata": {},
   "source": [
    "# Funções e Parâmetros\n",
    "### declaração de uma função com parâmetros"
   ]
  },
  {
   "cell_type": "code",
   "execution_count": null,
   "metadata": {},
   "outputs": [],
   "source": [
    "def span(x, y=2):\n",
    "    return x ** y\n",
    "\n",
    "print(span(5))\n",
    "print(span(5, 3))"
   ]
  },
  {
   "cell_type": "markdown",
   "metadata": {},
   "source": [
    "### Funções com parâmetros adicionais \n",
    "- __*params__ (Lista de parâmetros adicionais)\n",
    "- __**dparams__ (Dicionario com parâmetros adicionais)"
   ]
  },
  {
   "cell_type": "code",
   "execution_count": null,
   "metadata": {},
   "outputs": [],
   "source": [
    "def span(x, y=2, *args, **kw):\n",
    "    print(x, y, args, kw)\n",
    "\n",
    "span(1)\n",
    "span(1, 3)\n",
    "span(1, 2, 3, 4, a=5, b=6)"
   ]
  },
  {
   "cell_type": "markdown",
   "metadata": {},
   "source": [
    "#### Possíveis Erros:  "
   ]
  },
  {
   "cell_type": "code",
   "execution_count": null,
   "metadata": {},
   "outputs": [],
   "source": [
    "def span(x, y):\n",
    "    return x ** y\n",
    "span(5)\n",
    "# TypeError: span() missing 1 required positional argument: 'y'\n",
    "\n",
    "def span(x, y=2, *args, **kw):\n",
    "    print(x, y, args, kw)\n",
    "\n",
    "span(1, z = 3) # SyntaxError: non-default argument follows default argument\n",
    "span(1, z = 3, 2) # SyntaxError: positional argument follows keyword argument\n",
    "\n",
    "\n",
    "def span(x, y=2, z ): # SyntaxError: non-default argument follows default argument\n",
    "    pass\n",
    "\n",
    "def span(x,**kw ,*a, y): # SyntaxError: invalid syntax\n",
    "    print(x, y, a, kw)\n"
   ]
  }
 ],
 "metadata": {
  "colab": {
   "provenance": []
  },
  "kernelspec": {
   "display_name": "Python 3",
   "name": "python3"
  },
  "language_info": {
   "codemirror_mode": {
    "name": "ipython",
    "version": 3
   },
   "file_extension": ".py",
   "mimetype": "text/x-python",
   "name": "python",
   "nbconvert_exporter": "python",
   "pygments_lexer": "ipython3",
   "version": "3.12.7"
  }
 },
 "nbformat": 4,
 "nbformat_minor": 0
}
