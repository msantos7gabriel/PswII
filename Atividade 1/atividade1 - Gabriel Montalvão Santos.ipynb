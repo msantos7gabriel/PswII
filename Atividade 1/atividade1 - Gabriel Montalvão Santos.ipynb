{
 "cells": [
  {
   "cell_type": "code",
   "execution_count": 3,
   "metadata": {
    "colab": {
     "base_uri": "https://localhost:8080/"
    },
    "id": "T0SE1DGXeGiS",
    "outputId": "1457a4e8-f582-4dd2-a65a-77391c5ff2d7"
   },
   "outputs": [
    {
     "name": "stdout",
     "output_type": "stream",
     "text": [
      "a b c d e f\n",
      "a b c d f e\n",
      "ab\n",
      "ababababab\n"
     ]
    }
   ],
   "source": [
    "a = \"a\"\n",
    "b = \"b\"\n",
    "c, d = \"cd\"\n",
    "e, f = \"e\", \"f\"\n",
    "print (a, b, c, d, e, f)\n",
    "e, f = f, e\n",
    "print (a, b, c, d, e, f)\n",
    "a += b\n",
    "print (a)\n",
    "a *= 5\n",
    "print (a)"
   ]
  },
  {
   "cell_type": "code",
   "execution_count": 9,
   "metadata": {
    "colab": {
     "base_uri": "https://localhost:8080/"
    },
    "id": "n8EStVkvfDWX",
    "outputId": "c52175b2-1da9-4753-aa97-8ceb18bc2183"
   },
   "outputs": [
    {
     "name": "stdout",
     "output_type": "stream",
     "text": [
      "A:14\n",
      "B:3\n",
      "A é maior que B\n",
      "A é maior\n"
     ]
    }
   ],
   "source": [
    "a = int(input(\"A:\"))\n",
    "b = int(input(\"B:\"))\n",
    "\n",
    "if a > b:\n",
    "    print (\"A é maior que B\")\n",
    "elif b > a:\n",
    "    print (\"B é maior que A\")\n",
    "else:\n",
    "    print (\"A e B são iguais\")\n",
    "\n",
    "print (\"A é maior\" if a > b else \"A não é maior\")"
   ]
  },
  {
   "cell_type": "code",
   "execution_count": null,
   "metadata": {
    "colab": {
     "base_uri": "https://localhost:8080/"
    },
    "id": "SSSHsD_LghEW",
    "outputId": "9ccf1fa3-29a5-4c07-fccf-91e1dc6f84cd"
   },
   "outputs": [],
   "source": [
    "import sys, time\n",
    "d = input(\"Despertar (HH:MM): \")\n",
    "print(d)\n",
    "print(time.strftime(\"%H:%M\"))\n",
    "while time.strftime(\"%H:%M\") != d:\n",
    "  try:\n",
    "    print(\"\\b\\b\\b\\b\\btick\"), sys.stdout.flush()\n",
    "    time.sleep(0.5)\n",
    "\n",
    "    print(\"\\b\\b\\b\\b\\btack\"), sys.stdout.flush()\n",
    "    time.sleep(0.5)\n",
    "\n",
    "  except KeyboardInterrupt:\n",
    "    break\n",
    "else:\n",
    "  print(\"\\n\\nTRIM!\\a\\a\\a\")\n",
    "  sys.exit(0)\n",
    "\n",
    "print(\"\\n\\nInterrompido!\")"
   ]
  },
  {
   "cell_type": "code",
   "execution_count": null,
   "metadata": {
    "colab": {
     "base_uri": "https://localhost:8080/"
    },
    "id": "rfmKN_SNiFs8",
    "outputId": "c97c4bf5-388e-4770-bd29-87605967e8f9"
   },
   "outputs": [
    {
     "name": "stdout",
     "output_type": "stream",
     "text": [
      "# FIM DO ARQUIVO\n",
      "a\n",
      "0\n",
      "1\n",
      "2\n",
      "3\n",
      "4\n",
      "5\n",
      "6\n",
      "7\n",
      "8\n",
      "9\n"
     ]
    }
   ],
   "source": [
    "import sys\n",
    "\n",
    "for linha in sys.stdin:\n",
    "    if not linha.strip(): continue\n",
    "    if \"FIM\" in linha: break\n",
    "    print(\"#\"), linha.rstrip()\n",
    "else:\n",
    "    print(\"# FIM DO ARQUIVO\")\n",
    "\n",
    "a = range(10)\n",
    "print(\"a\")\n",
    "\n",
    "for i in a:\n",
    "    print(i)"
   ]
  },
  {
   "cell_type": "code",
   "execution_count": null,
   "metadata": {
    "colab": {
     "base_uri": "https://localhost:8080/",
     "height": 211
    },
    "id": "OFqjKuLZybsE",
    "outputId": "0514a01f-98da-4ddb-8204-9293bfc96c9a"
   },
   "outputs": [
    {
     "ename": "TypeError",
     "evalue": "can only concatenate list (not \"str\") to list",
     "output_type": "error",
     "traceback": [
      "\u001b[0;31m---------------------------------------------------------------------------\u001b[0m",
      "\u001b[0;31mTypeError\u001b[0m                                 Traceback (most recent call last)",
      "\u001b[0;32m<ipython-input-17-c2d2f1155c2e>\u001b[0m in \u001b[0;36m<cell line: 13>\u001b[0;34m()\u001b[0m\n\u001b[1;32m     11\u001b[0m \u001b[0ma\u001b[0m\u001b[0;34m\u001b[0m\u001b[0;34m\u001b[0m\u001b[0m\n\u001b[1;32m     12\u001b[0m \u001b[0;34m\u001b[0m\u001b[0m\n\u001b[0;32m---> 13\u001b[0;31m \u001b[0ma\u001b[0m \u001b[0;34m+\u001b[0m \u001b[0;34m\"ghi\"\u001b[0m\u001b[0;34m\u001b[0m\u001b[0;34m\u001b[0m\u001b[0m\n\u001b[0m\u001b[1;32m     14\u001b[0m \u001b[0;34m\u001b[0m\u001b[0m\n\u001b[1;32m     15\u001b[0m \u001b[0;34m[\u001b[0m\u001b[0;34m'a'\u001b[0m\u001b[0;34m,\u001b[0m \u001b[0;34m'b'\u001b[0m\u001b[0;34m,\u001b[0m \u001b[0;34m'c'\u001b[0m\u001b[0;34m,\u001b[0m \u001b[0;34m'd'\u001b[0m\u001b[0;34m]\u001b[0m\u001b[0;34m[\u001b[0m\u001b[0;36m0\u001b[0m\u001b[0;34m]\u001b[0m\u001b[0;34m\u001b[0m\u001b[0;34m\u001b[0m\u001b[0m\n",
      "\u001b[0;31mTypeError\u001b[0m: can only concatenate list (not \"str\") to list"
     ]
    }
   ],
   "source": [
    "['a', 'b']\n",
    "['a', 'b'] + ['c', 'd']\n",
    "\n",
    "a = ['a', 'b', 'c', 'd']\n",
    "a\n",
    "\n",
    "a[0] = 'X'\n",
    "a\n",
    "\n",
    "a += \"efg\"\n",
    "a\n",
    "\n",
    "a + \"ghi\"\n",
    "\n",
    "['a', 'b', 'c', 'd'][0]\n",
    "\n",
    "['a', 'b', 'c', 'd'][0:2]"
   ]
  },
  {
   "cell_type": "code",
   "execution_count": null,
   "metadata": {
    "colab": {
     "base_uri": "https://localhost:8080/"
    },
    "id": "9BNtyDXU17QL",
    "outputId": "e03c5e90-8a17-40c7-e01f-a69b6655bf4d"
   },
   "outputs": [
    {
     "data": {
      "text/plain": [
       "2"
      ]
     },
     "execution_count": 18,
     "metadata": {},
     "output_type": "execute_result"
    }
   ],
   "source": [
    "a = [1, 2, 3]\n",
    "a.append(4)\n",
    "a\n",
    "\n",
    "a.extend([5, 6])\n",
    "a\n",
    "\n",
    "a.insert(2, 2.5)\n",
    "a\n",
    "\n",
    "a.pop()\n",
    "a\n",
    "\n",
    "a.reverse()\n",
    "a\n",
    "\n",
    "a.sort()\n",
    "a\n",
    "\n",
    "['err', 'ok', 'err'].count('err')"
   ]
  },
  {
   "cell_type": "code",
   "execution_count": null,
   "metadata": {
    "colab": {
     "base_uri": "https://localhost:8080/"
    },
    "id": "knKsmW355AMf",
    "outputId": "b334ab75-196f-4483-b4f2-e56650c3c406"
   },
   "outputs": [
    {
     "name": "stdout",
     "output_type": "stream",
     "text": [
      "{'c1': 'v1', 'c2': 'v2'}\n",
      "{'c1': 'v1', 'c2': 'v2', 1: 'chave numerica'}\n",
      "{'c1': 'v1', 'c2': 'v2', 1: 'chave numerica', (1, 2, 3): 'objeto chave'}\n",
      "{'c1': 'v1', 'c2': 'v2', 1: 'chave numerica', (1, 2, 3): 'objeto chave', 'c3': 'v3', 'c4': 'v4'}\n",
      "{'c1': 'v1', 'c2': 'v2', 1: 'chave numerica', (1, 2, 3): 'objeto chave', 'c3': 'v3'}\n",
      "dict_items([('c1', 'v1'), ('c2', 'v2'), (1, 'chave numerica'), ((1, 2, 3), 'objeto chave'), ('c3', 'v3')])\n",
      "dict_keys(['c1', 'c2', 1, (1, 2, 3), 'c3'])\n",
      "dict_values(['v1', 'v2', 'chave numerica', 'objeto chave', 'v3'])\n"
     ]
    }
   ],
   "source": [
    "d = {\"c1\": \"v1\"}\n",
    "\n",
    "d[\"c2\"] = \"v2\"\n",
    "print(d)\n",
    "\n",
    "d[1] = \"chave numerica\"\n",
    "print(d)\n",
    "\n",
    "tuplachave = (1, 2, 3)\n",
    "d[tuplachave] = \"objeto chave\"\n",
    "print(d)\n",
    "\n",
    "d.update({'c3': 'v3', 'c4': 'v4'})\n",
    "print(d)\n",
    "\n",
    "d.pop('c4')\n",
    "print(d)\n",
    "\n",
    "print(d.items())\n",
    "print(d.keys())\n",
    "print(d.values())"
   ]
  }
 ],
 "metadata": {
  "colab": {
   "provenance": []
  },
  "kernelspec": {
   "display_name": "Python 3",
   "name": "python3"
  },
  "language_info": {
   "codemirror_mode": {
    "name": "ipython",
    "version": 3
   },
   "file_extension": ".py",
   "mimetype": "text/x-python",
   "name": "python",
   "nbconvert_exporter": "python",
   "pygments_lexer": "ipython3",
   "version": "3.12.7"
  }
 },
 "nbformat": 4,
 "nbformat_minor": 0
}
